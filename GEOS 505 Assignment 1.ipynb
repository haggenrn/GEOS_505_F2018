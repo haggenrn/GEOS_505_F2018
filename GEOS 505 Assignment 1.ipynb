{
 "cells": [
  {
   "cell_type": "markdown",
   "metadata": {},
   "source": [
    "# GEOS 505 Assignment 1\n",
    "\n",
    "## Due: Thursday, October 11, 2018\n",
    "\n",
    "### Purpose\n",
    "In this assignment you will demonstrate your emerging research computing competencies by: (1) obtaining some dataset that is relevant to your research or research interests, (2) importing that dataset into Python, (3) creating a visualization of that dataset and describing (in text) what is being shown, and (4) saving and uploading the Jupyter Notebook you created to your Github account.\n",
    "\n",
    "### Instructions\n",
    "Using this Jupyter notebook as a template, you should use a combination of code and Markdown cells to illustrate and describe the workflow you are using to import and visualize your dataset. The prompts below can serve as a roadmap for how this workflow should unfold."
   ]
  },
  {
   "cell_type": "markdown",
   "metadata": {},
   "source": [
    "### 1. Describe the dataset \n",
    "Using words in Markdown, describe that you are importing and state why it is important to your research or research interests. This should include some details about where the data came from and the format in which it is stored"
   ]
  },
  {
   "cell_type": "markdown",
   "metadata": {},
   "source": [
    "I am importing data from Dave Wilkins' Sunnyslope AVA weather station located in Polo Cove vineyard. Data in this set includes temperature (°F) readings for 2017-4-1 through 2017-10-31. The number of days where the temperature reaches 50°F or higher are the growing degree days (GDD) of the vineyard. GDD are used as a measurement to estimate the likelihood the fruit will reach full maturity before harvest. "
   ]
  },
  {
   "cell_type": "markdown",
   "metadata": {},
   "source": [
    "### 2. Import the dataset and verify that it is what you expect\n",
    "You should include a detailed description of any cleaning or manipulation done to the data prior to reading it in here, why you needed to do it, and how you did it. You should also include a justification for how you read the data into Python using the command you did. Provide examples of other ways you could have read in the data and discuss why you chose not to use those methods."
   ]
  },
  {
   "cell_type": "code",
   "execution_count": 2,
   "metadata": {},
   "outputs": [],
   "source": [
    "import numpy as np\n",
    "import pandas as pd \n",
    "import matplotlib.pyplot as plt \n",
    "import matplotlib.dates as mdates\n",
    "\n",
    "filename_PC = \"PC_GDD_17.csv\""
   ]
  },
  {
   "cell_type": "code",
   "execution_count": 3,
   "metadata": {},
   "outputs": [],
   "source": [
    "df = pd.read_csv(filename_PC)"
   ]
  },
  {
   "cell_type": "code",
   "execution_count": 4,
   "metadata": {},
   "outputs": [
    {
     "data": {
      "text/html": [
       "<div>\n",
       "<style scoped>\n",
       "    .dataframe tbody tr th:only-of-type {\n",
       "        vertical-align: middle;\n",
       "    }\n",
       "\n",
       "    .dataframe tbody tr th {\n",
       "        vertical-align: top;\n",
       "    }\n",
       "\n",
       "    .dataframe thead th {\n",
       "        text-align: right;\n",
       "    }\n",
       "</style>\n",
       "<table border=\"1\" class=\"dataframe\">\n",
       "  <thead>\n",
       "    <tr style=\"text-align: right;\">\n",
       "      <th></th>\n",
       "      <th>Date</th>\n",
       "      <th>Value</th>\n",
       "    </tr>\n",
       "  </thead>\n",
       "  <tbody>\n",
       "    <tr>\n",
       "      <th>0</th>\n",
       "      <td>4/1/17 1:00</td>\n",
       "      <td>44.24</td>\n",
       "    </tr>\n",
       "    <tr>\n",
       "      <th>1</th>\n",
       "      <td>4/1/17 2:00</td>\n",
       "      <td>44.78</td>\n",
       "    </tr>\n",
       "    <tr>\n",
       "      <th>2</th>\n",
       "      <td>4/1/17 3:00</td>\n",
       "      <td>44.42</td>\n",
       "    </tr>\n",
       "    <tr>\n",
       "      <th>3</th>\n",
       "      <td>4/1/17 4:00</td>\n",
       "      <td>44.06</td>\n",
       "    </tr>\n",
       "  </tbody>\n",
       "</table>\n",
       "</div>"
      ],
      "text/plain": [
       "          Date  Value\n",
       "0  4/1/17 1:00  44.24\n",
       "1  4/1/17 2:00  44.78\n",
       "2  4/1/17 3:00  44.42\n",
       "3  4/1/17 4:00  44.06"
      ]
     },
     "execution_count": 4,
     "metadata": {},
     "output_type": "execute_result"
    }
   ],
   "source": [
    "df[0:4]"
   ]
  },
  {
   "cell_type": "markdown",
   "metadata": {},
   "source": [
    "I downloaded the data as a '.csv' and, in Excel, deleted the first column of values \"1-5055\" that corresponded to the reading number. Doing this makes it easier for Python to read, and the data output is neater. I imported the data using filename_PC = \"####.csv\". I named the file 'PC' for \"Polo Cove\". I created a dataframe and read the '.csv' data in using Pandas. To check if my data was imported correctly (makes sense) I asked Python to show me the dataframe for rows 0 through 4. Values printed in Python matched values found in Excel, so I know it all worked out. I could have created a graph using matplotlib.pyplot and compared it to the graph on the webpage for the data, but printing the dataframe was easier."
   ]
  },
  {
   "cell_type": "markdown",
   "metadata": {},
   "source": [
    "### 3. Create a visualization of some feature of your dataset\n",
    "Using a standard plotting library, create a visualization of your dataset. Describe, in words, why you are choosing to plot the data the way you are and what you intend to reveal through this visualization. Make sure your plot has a title and that axes are labeled and units are provided."
   ]
  },
  {
   "cell_type": "code",
   "execution_count": 5,
   "metadata": {},
   "outputs": [
    {
     "data": {
      "image/png": "[encoded data removed]",
      "text/plain": [
       "<Figure size 432x288 with 1 Axes>"
      ]
     },
     "metadata": {
      "needs_background": "light"
     },
     "output_type": "display_data"
    }
   ],
   "source": [
    "ax = df.plot(x='Date',y='Value')\n",
    "plt.show()"
   ]
  },
  {
   "cell_type": "code",
   "execution_count": 6,
   "metadata": {},
   "outputs": [
    {
     "data": {
      "text/plain": [
       "'4/1/17 1:00'"
      ]
     },
     "execution_count": 6,
     "metadata": {},
     "output_type": "execute_result"
    }
   ],
   "source": [
    "datearr = df['Date'].values\n",
    "datearr[0]"
   ]
  },
  {
   "cell_type": "code",
   "execution_count": 7,
   "metadata": {},
   "outputs": [
    {
     "data": {
      "text/plain": [
       "Timestamp('2017-04-01 01:00:00')"
      ]
     },
     "execution_count": 7,
     "metadata": {},
     "output_type": "execute_result"
    }
   ],
   "source": [
    "datearr_dt = pd.to_datetime(datearr)\n",
    "datearr_dt[0]"
   ]
  },
  {
   "cell_type": "code",
   "execution_count": 8,
   "metadata": {},
   "outputs": [
    {
     "data": {
      "text/plain": [
       "pandas.core.indexes.datetimes.DatetimeIndex"
      ]
     },
     "execution_count": 8,
     "metadata": {},
     "output_type": "execute_result"
    }
   ],
   "source": [
    "type(datearr_dt)"
   ]
  },
  {
   "cell_type": "code",
   "execution_count": 9,
   "metadata": {},
   "outputs": [],
   "source": [
    "df['NP_Datetime'] = datearr_dt"
   ]
  },
  {
   "cell_type": "code",
   "execution_count": 10,
   "metadata": {},
   "outputs": [
    {
     "data": {
      "text/html": [
       "<div>\n",
       "<style scoped>\n",
       "    .dataframe tbody tr th:only-of-type {\n",
       "        vertical-align: middle;\n",
       "    }\n",
       "\n",
       "    .dataframe tbody tr th {\n",
       "        vertical-align: top;\n",
       "    }\n",
       "\n",
       "    .dataframe thead th {\n",
       "        text-align: right;\n",
       "    }\n",
       "</style>\n",
       "<table border=\"1\" class=\"dataframe\">\n",
       "  <thead>\n",
       "    <tr style=\"text-align: right;\">\n",
       "      <th></th>\n",
       "      <th>Date</th>\n",
       "      <th>Value</th>\n",
       "      <th>NP_Datetime</th>\n",
       "    </tr>\n",
       "  </thead>\n",
       "  <tbody>\n",
       "    <tr>\n",
       "      <th>0</th>\n",
       "      <td>4/1/17 1:00</td>\n",
       "      <td>44.24</td>\n",
       "      <td>2017-04-01 01:00:00</td>\n",
       "    </tr>\n",
       "    <tr>\n",
       "      <th>1</th>\n",
       "      <td>4/1/17 2:00</td>\n",
       "      <td>44.78</td>\n",
       "      <td>2017-04-01 02:00:00</td>\n",
       "    </tr>\n",
       "    <tr>\n",
       "      <th>2</th>\n",
       "      <td>4/1/17 3:00</td>\n",
       "      <td>44.42</td>\n",
       "      <td>2017-04-01 03:00:00</td>\n",
       "    </tr>\n",
       "    <tr>\n",
       "      <th>3</th>\n",
       "      <td>4/1/17 4:00</td>\n",
       "      <td>44.06</td>\n",
       "      <td>2017-04-01 04:00:00</td>\n",
       "    </tr>\n",
       "  </tbody>\n",
       "</table>\n",
       "</div>"
      ],
      "text/plain": [
       "          Date  Value         NP_Datetime\n",
       "0  4/1/17 1:00  44.24 2017-04-01 01:00:00\n",
       "1  4/1/17 2:00  44.78 2017-04-01 02:00:00\n",
       "2  4/1/17 3:00  44.42 2017-04-01 03:00:00\n",
       "3  4/1/17 4:00  44.06 2017-04-01 04:00:00"
      ]
     },
     "execution_count": 10,
     "metadata": {},
     "output_type": "execute_result"
    }
   ],
   "source": [
    "df[0:4]"
   ]
  },
  {
   "cell_type": "code",
   "execution_count": 11,
   "metadata": {},
   "outputs": [
    {
     "data": {
      "image/png": "[encoded data removed]",
      "text/plain": [
       "<Figure size 432x288 with 1 Axes>"
      ]
     },
     "metadata": {
      "needs_background": "light"
     },
     "output_type": "display_data"
    }
   ],
   "source": [
    "plt.plot(df['NP_Datetime'].values,df['Value'].values)\n",
    "plt.title('Polo Cove Vineyard April 1st to October 31st')\n",
    "plt.xlabel('Date')\n",
    "plt.ylabel('Value [°F]')\n",
    "\n",
    "plt.show()"
   ]
  },
  {
   "cell_type": "markdown",
   "metadata": {},
   "source": [
    "This type of plot allows the reader to see temperature (°F) fluctuations during the growing season in Polo Cove vineyard. There are over 5000 values that needed to appear on the plot, and a graph such as this is easy to read. I had to convert the data and time stamp into a form that was human readable. "
   ]
  },
  {
   "cell_type": "markdown",
   "metadata": {},
   "source": [
    "### 4. Describe the visualization you just created\n",
    "As if you were writing a paragraph in a results section of a technical report, peer-reviewed manuscript, or thesis, describe (again, in words) the central idea that this visualization conveys. Describe key features of the data that the outside reviewer should pay attention to. This might include a description of anything unanticipated that you see in the data, or a verification that the visualization shows what you expected to see. "
   ]
  },
  {
   "cell_type": "markdown",
   "metadata": {},
   "source": [
    "Temperature readings as displayed in the figure \"Polo Cove Vineyard April 1st to October 31st\" show an increased in temperature during the summer months. The start of the growing season (April 1st) and the end of the season (October 31st) display values that are significantly lower than readings from June and August. The weather station failed to take readings at the end of August and beginning of September possibly due to a dead battery. The increasing temperature trends during the summer months displayed in this graph are to be expected and verify that our data is accurate. Using the graph, we can conclude nearly half of the growing season reaches 50°F or greater. "
   ]
  },
  {
   "cell_type": "markdown",
   "metadata": {},
   "source": [
    "### 5. Perform any additional analyses (optional)\n",
    "If you are interested or curious, go beyond this simple visualization to perform any additional statistical analyses on your data, create any additional visualizations, or compute any additional derived variables that may help you and an external reviewer better understand the dataset that you are showing. Use words to describe any additional analyses and why they are relevant."
   ]
  },
  {
   "cell_type": "code",
   "execution_count": 3,
   "metadata": {},
   "outputs": [],
   "source": [
    "### Python code goes here"
   ]
  },
  {
   "cell_type": "markdown",
   "metadata": {},
   "source": [
    "### 6. Upload your Jupyter Notebook to your GitHub account\n",
    "Paste the link to your completed notebook in the class etherpad: https://etherpad.boisestate.edu/p/GEOS-505-FA18"
   ]
  }
 ],
 "metadata": {
  "kernelspec": {
   "display_name": "Python 3",
   "language": "python",
   "name": "python3"
  },
  "language_info": {
   "codemirror_mode": {
    "name": "ipython",
    "version": 3
   },
   "file_extension": ".py",
   "mimetype": "text/x-python",
   "name": "python",
   "nbconvert_exporter": "python",
   "pygments_lexer": "ipython3",
   "version": "3.7.0"
  }
 },
 "nbformat": 4,
 "nbformat_minor": 2
}
