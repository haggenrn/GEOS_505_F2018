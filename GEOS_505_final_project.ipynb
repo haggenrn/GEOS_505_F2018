{
 "cells": [
  {
   "cell_type": "markdown",
   "metadata": {},
   "source": [
    "### Introduction/Problem Statement\n",
    "\n",
    "Terroir is the set of factors such as climate, soil, and management practices that influence the character of a wine. Climate determines the number of days in a year that present ideal growing conditions for grape vines. Average heat accumulation for a region can be calculated and compared to values from neighboring regions to provide an in depth picture of one of three factors of terroir (WSU, 2016).\n",
    "\n",
    "The Sunnyslope wine grape growing district, located near the Snake River in southern Idaho, is one of the top producers of wine grapes in the state. The characteristic hot summers, cool winters, and low levels of precipitation pose a threat to grape quality in this region. In order for high quality grapes to be produced at the vineyards in the Snake River Valley's Sunnyslope district, the grapes must produce high concentrations of phenolic compounds which provide more depth and balanced flavors to the finished product, the wine. Studies show the bulk of grape development is conducted during the growin season from April 1st to October 31st, and that development is largely influenced by air temperature (WSU, 2016). Therefore, calculating the average heat accumulation can help predict the quality of the grapes produced in a vineyard of a specific region.\n",
    "\n",
    "A Growing Degree Day, or GDD, is the term used for the daily average heat accumulation. For example, when the daily average temperature provides the proper conditions for grape maturation and development, that day is considered a GDD. The summation of GDDs from April 1st to October 31st provides a climatic snapshot of the region, and can be used to predict the growing conditions for the following years. The GDD equation is as follows: \n",
    "    \n",
    "                                        GDD = ((max + min / 2) - 50) \n",
    "\n",
    "Hourly temperature datasets for two vineyards, Polo Cove and Hat Ranch, have been acquired through Dave Wilkin's Sunnyslope Project website (Wilkins, 2018). Polo Cove lies at a higher elevation than Hat Ranch, and I believe this difference will affect the number of GDD for the vineyards. Using Spyder and programming libraries, I will evaluate and analyze the data of three vineyards to create plots of average daily temperatures from April 1st to Octber 31st. Using daily values and the GDD formula, total GDD from each vineyard will be calculated and compared."
   ]
  },
  {
   "cell_type": "markdown",
   "metadata": {},
   "source": [
    "### Data and Methods \n",
    "\n",
    "Both datasets analyzed in this study were downloaded as '.csv' files from www.sunnyslope.boisestate.edu. The data was collected from a weather station located in the middle of the vine rows, and temperature data is collected every hour. In accordance with GDD calculations, data includes readings from April 1, 2017 to October 31, 2017. Initial steps included identifying the datasets, and successfully importning them into a Jupyter notebook along with any computing libraries need. Libraries included pandas and numbpy (see below). In order to verify the imported datasets had been added accurately, plots were generated in Python and compared to existing plots on the sunnyslope site. \n",
    "\n",
    "Dataset 1: Polo Cove 'PC_GDD.csv\" \n",
    "Dataset 2: Hat Ranch 'HR_GDD.csv\" \n",
    "\n"
   ]
  },
  {
   "cell_type": "code",
   "execution_count": 8,
   "metadata": {},
   "outputs": [],
   "source": [
    "import numpy as np\n",
    "import pandas as pd \n",
    "import matplotlib.pyplot as plt \n",
    "import matplotlib.dates as mdates\n",
    "\n",
    "filename_PC = \"PC_GDD.csv\"\n",
    "\n",
    "df = pd.read_csv(filename_PC)"
   ]
  },
  {
   "cell_type": "markdown",
   "metadata": {},
   "source": [
    "The datasets were imported successfully, though the date values remained in a format that was unreadable by python. Converting traditional date format into datetime brought me more success. A new column was added to the dataframe, so calculations could proceed, and plots could be generated based on the datetime values. "
   ]
  },
  {
   "cell_type": "code",
   "execution_count": 12,
   "metadata": {},
   "outputs": [
    {
     "data": {
      "text/html": [
       "<div>\n",
       "<style scoped>\n",
       "    .dataframe tbody tr th:only-of-type {\n",
       "        vertical-align: middle;\n",
       "    }\n",
       "\n",
       "    .dataframe tbody tr th {\n",
       "        vertical-align: top;\n",
       "    }\n",
       "\n",
       "    .dataframe thead th {\n",
       "        text-align: right;\n",
       "    }\n",
       "</style>\n",
       "<table border=\"1\" class=\"dataframe\">\n",
       "  <thead>\n",
       "    <tr style=\"text-align: right;\">\n",
       "      <th></th>\n",
       "      <th>Date</th>\n",
       "      <th>Value</th>\n",
       "      <th>NP_Datetime</th>\n",
       "      <th>Date_dt</th>\n",
       "    </tr>\n",
       "  </thead>\n",
       "  <tbody>\n",
       "    <tr>\n",
       "      <th>0</th>\n",
       "      <td>4/1/17 1:00</td>\n",
       "      <td>44.24</td>\n",
       "      <td>2017-04-01 01:00:00</td>\n",
       "      <td>2017-04-01 01:00:00</td>\n",
       "    </tr>\n",
       "    <tr>\n",
       "      <th>1</th>\n",
       "      <td>4/1/17 2:00</td>\n",
       "      <td>44.78</td>\n",
       "      <td>2017-04-01 02:00:00</td>\n",
       "      <td>2017-04-01 02:00:00</td>\n",
       "    </tr>\n",
       "    <tr>\n",
       "      <th>2</th>\n",
       "      <td>4/1/17 3:00</td>\n",
       "      <td>44.42</td>\n",
       "      <td>2017-04-01 03:00:00</td>\n",
       "      <td>2017-04-01 03:00:00</td>\n",
       "    </tr>\n",
       "    <tr>\n",
       "      <th>3</th>\n",
       "      <td>4/1/17 4:00</td>\n",
       "      <td>44.06</td>\n",
       "      <td>2017-04-01 04:00:00</td>\n",
       "      <td>2017-04-01 04:00:00</td>\n",
       "    </tr>\n",
       "    <tr>\n",
       "      <th>4</th>\n",
       "      <td>4/1/17 5:00</td>\n",
       "      <td>41.72</td>\n",
       "      <td>2017-04-01 05:00:00</td>\n",
       "      <td>2017-04-01 05:00:00</td>\n",
       "    </tr>\n",
       "    <tr>\n",
       "      <th>5</th>\n",
       "      <td>4/1/17 6:00</td>\n",
       "      <td>40.64</td>\n",
       "      <td>2017-04-01 06:00:00</td>\n",
       "      <td>2017-04-01 06:00:00</td>\n",
       "    </tr>\n",
       "    <tr>\n",
       "      <th>6</th>\n",
       "      <td>4/1/17 7:00</td>\n",
       "      <td>40.82</td>\n",
       "      <td>2017-04-01 07:00:00</td>\n",
       "      <td>2017-04-01 07:00:00</td>\n",
       "    </tr>\n",
       "    <tr>\n",
       "      <th>7</th>\n",
       "      <td>4/1/17 8:00</td>\n",
       "      <td>39.56</td>\n",
       "      <td>2017-04-01 08:00:00</td>\n",
       "      <td>2017-04-01 08:00:00</td>\n",
       "    </tr>\n",
       "    <tr>\n",
       "      <th>8</th>\n",
       "      <td>4/1/17 9:00</td>\n",
       "      <td>42.26</td>\n",
       "      <td>2017-04-01 09:00:00</td>\n",
       "      <td>2017-04-01 09:00:00</td>\n",
       "    </tr>\n",
       "    <tr>\n",
       "      <th>9</th>\n",
       "      <td>4/1/17 10:00</td>\n",
       "      <td>48.20</td>\n",
       "      <td>2017-04-01 10:00:00</td>\n",
       "      <td>2017-04-01 10:00:00</td>\n",
       "    </tr>\n",
       "  </tbody>\n",
       "</table>\n",
       "</div>"
      ],
      "text/plain": [
       "           Date  Value         NP_Datetime             Date_dt\n",
       "0   4/1/17 1:00  44.24 2017-04-01 01:00:00 2017-04-01 01:00:00\n",
       "1   4/1/17 2:00  44.78 2017-04-01 02:00:00 2017-04-01 02:00:00\n",
       "2   4/1/17 3:00  44.42 2017-04-01 03:00:00 2017-04-01 03:00:00\n",
       "3   4/1/17 4:00  44.06 2017-04-01 04:00:00 2017-04-01 04:00:00\n",
       "4   4/1/17 5:00  41.72 2017-04-01 05:00:00 2017-04-01 05:00:00\n",
       "5   4/1/17 6:00  40.64 2017-04-01 06:00:00 2017-04-01 06:00:00\n",
       "6   4/1/17 7:00  40.82 2017-04-01 07:00:00 2017-04-01 07:00:00\n",
       "7   4/1/17 8:00  39.56 2017-04-01 08:00:00 2017-04-01 08:00:00\n",
       "8   4/1/17 9:00  42.26 2017-04-01 09:00:00 2017-04-01 09:00:00\n",
       "9  4/1/17 10:00  48.20 2017-04-01 10:00:00 2017-04-01 10:00:00"
      ]
     },
     "execution_count": 12,
     "metadata": {},
     "output_type": "execute_result"
    }
   ],
   "source": [
    "datearr_dt = pd.to_datetime(df['Date'])\n",
    "datearr_dt[0]\n",
    "\n",
    "df['Date_dt'] = datearr_dt\n",
    "\n",
    "df[0:10]"
   ]
  },
  {
   "cell_type": "code",
   "execution_count": 10,
   "metadata": {},
   "outputs": [
    {
     "data": {
      "image/png": "[encoded data removed]",
      "text/plain": [
       "<Figure size 432x288 with 1 Axes>"
      ]
     },
     "metadata": {
      "needs_background": "light"
     },
     "output_type": "display_data"
    }
   ],
   "source": [
    "plt.plot(df['NP_Datetime'].values,df['Value'].values)\n",
    "plt.title('Polo Cove Vineyard: April 1 - October 31 2017')\n",
    "plt.xlabel('Date')\n",
    "plt.ylabel('Value [°F]')\n",
    "\n",
    "plt.show()"
   ]
  },
  {
   "cell_type": "markdown",
   "metadata": {},
   "source": [
    "The same code was used to generate a plot for the Hat Ranch dataset (see 'GEOS_505_Project_Plots.ipynb'). "
   ]
  },
  {
   "cell_type": "markdown",
   "metadata": {},
   "source": [
    "Hourly temperature readings were recorded, and are associated wit the same day. The datetime values for a single day must be normalized. This allows for only one '2017-04-01' to exist in a single row. Next, groups of dates and associated temperatures were generated."
   ]
  },
  {
   "cell_type": "code",
   "execution_count": 14,
   "metadata": {},
   "outputs": [
    {
     "data": {
      "text/plain": [
       "DatetimeIndex(['2017-04-01', '2017-04-01', '2017-04-01', '2017-04-01',\n",
       "               '2017-04-01', '2017-04-01', '2017-04-01', '2017-04-01',\n",
       "               '2017-04-01', '2017-04-01',\n",
       "               ...\n",
       "               '2017-10-31', '2017-10-31', '2017-10-31', '2017-10-31',\n",
       "               '2017-10-31', '2017-10-31', '2017-10-31', '2017-10-31',\n",
       "               '2017-10-31', '2017-10-31'],\n",
       "              dtype='datetime64[ns]', name='Date_dt', length=5054, freq=None)"
      ]
     },
     "execution_count": 14,
     "metadata": {},
     "output_type": "execute_result"
    }
   ],
   "source": [
    "pd.DatetimeIndex(df['Date_dt']).normalize()"
   ]
  },
  {
   "cell_type": "code",
   "execution_count": 15,
   "metadata": {},
   "outputs": [],
   "source": [
    "g = df.groupby(pd.DatetimeIndex(df['Date_dt']).normalize())"
   ]
  },
  {
   "cell_type": "markdown",
   "metadata": {},
   "source": [
    "With 24 hours of temperature readings associated with and grouped under a single day, analysis of temperature values is possible. In order to calculate GDD, maximum and minimum temperatures must be computed. A new, empty dataframe is created and filled with existing and computed data."
   ]
  },
  {
   "cell_type": "code",
   "execution_count": 21,
   "metadata": {},
   "outputs": [],
   "source": [
    "dates = pd.DatetimeIndex(df['Date_dt']).normalize().unique()\n",
    "\n",
    "avgT = np.zeros((dates.size,1))\n",
    "maxT = np.zeros((dates.size,1))\n",
    "minT = np.zeros((dates.size,1))\n",
    "\n",
    "count = 0\n",
    "\n",
    "for date in dates:\n",
    "    avgT[count] = g['Value'].get_group(date.normalize()).mean()\n",
    "    maxT[count] = g['Value'].get_group(date.normalize()).max()\n",
    "    minT[count] = g['Value'].get_group(date.normalize()).min()\n",
    "    \n",
    "    count = count + 1 "
   ]
  },
  {
   "cell_type": "code",
   "execution_count": 17,
   "metadata": {},
   "outputs": [],
   "source": [
    "data = [np.asarray(dates),avgT,maxT,minT]"
   ]
  },
  {
   "cell_type": "code",
   "execution_count": 22,
   "metadata": {},
   "outputs": [],
   "source": [
    "df_2 = pd.DataFrame()\n",
    "df_2['Date'] = dates\n",
    "df_2['AvgT'] = avgT\n",
    "df_2['MaxT'] = maxT \n",
    "df_2['MinT'] = minT"
   ]
  },
  {
   "cell_type": "code",
   "execution_count": 23,
   "metadata": {},
   "outputs": [],
   "source": [
    "DD = ((maxT + minT)/2) - 50\n",
    "DD[DD<0.0] = 0.0\n",
    "\n",
    "#GDD can only be positive numbers "
   ]
  },
  {
   "cell_type": "markdown",
   "metadata": {},
   "source": [
    "### Results \n",
    "\n",
    "The data provided by Dave Wilkins and his Sunnyslope website was reworked and analyzed to calculate the growing degree days of two vineyards in the Sunnyslope district, Polo Cove and Hat Ranch. The final dataset provides a clean look at the daily average, maximum, minimum temperatures and the number of GDD. "
   ]
  },
  {
   "cell_type": "code",
   "execution_count": 24,
   "metadata": {},
   "outputs": [
    {
     "data": {
      "text/plain": [
       "3342.33"
      ]
     },
     "execution_count": 24,
     "metadata": {},
     "output_type": "execute_result"
    }
   ],
   "source": [
    "DD.sum()"
   ]
  },
  {
   "cell_type": "markdown",
   "metadata": {},
   "source": [
    "The total GDD of Polo Cove Vineyard is 3342.33, while Hat Ranch has a calculated 3103.2 GDD. Hat Ranch lies at an elevation closer to the Snake River which allows for cooling winds and a greater diurnal shift to keep the temperatures cooler than Polo Cove. "
   ]
  },
  {
   "cell_type": "markdown",
   "metadata": {},
   "source": [
    "### Next Steps \n",
    "I hope to use this code to calculate the GDD of each Sunnyslope vineyard for a more in depth investigation into climatic conditions in the district. This project has been a great learning opportunity for me, and I hope to take this code and teach others about the importance of GDD. "
   ]
  },
  {
   "cell_type": "code",
   "execution_count": null,
   "metadata": {},
   "outputs": [],
   "source": []
  }
 ],
 "metadata": {
  "kernelspec": {
   "display_name": "Python 3",
   "language": "python",
   "name": "python3"
  },
  "language_info": {
   "codemirror_mode": {
    "name": "ipython",
    "version": 3
   },
   "file_extension": ".py",
   "mimetype": "text/x-python",
   "name": "python",
   "nbconvert_exporter": "python",
   "pygments_lexer": "ipython3",
   "version": "3.7.0"
  }
 },
 "nbformat": 4,
 "nbformat_minor": 2
}
