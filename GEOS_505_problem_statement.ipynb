{
 "cells": [
  {
   "cell_type": "markdown",
   "metadata": {},
   "source": [
    "## GEOS 505 Problem Statement \n",
    "Terroir is the set of factors such as climate, soil, and management practices that influence the character of a wine. Climate determines the number of days in a year that present ideal growing conditions for grape vines. Average heat accumulation for a region can be calculated and compared to values from neighboring regions to provide an in depth picture of one of three factors of terroir (WSU, 2016).\n",
    "    \n",
    "The Sunnyslope wine grape growing district, located near the Snake River in southern Idaho, is one of the top producers of wine grapes in the state. The characteristic hot summers, cool winters, and low levels of precipitation pose a threat to grape quality in this region. In order for high quality grapes to be produced at the vineyards in the Snake River Valley's Sunnyslope district, the grapes must produce high concentrations of phenolic compounds which provide more depth and balanced flavors to the finished product, the wine. Studies show the bulk of grape development is conducted during the growin season from April 1st to October 31st, and that development is largely influenced by air temperature (WSU, 2016). Therefore, calculating the average heat accumulation can help predict the quality of the grapes produced in a specific region. \n",
    "    \n",
    "A Growing Degree Day, or GDD, is the term used for the daily average heat accumulation. For example, when the daily average temperature provides the proper conditions for grape maturation and development, that day is considered a GDD. The summation of GDDs from April 1st to October 31st provides a climatic snapshot of the region, and can be used to predict the growing conditions for the following years. \n",
    "    \n",
    "Hourly temperature datasets for a number of vineyards has been acquired through Dave Wilkin's Sunnyslope Project website (Wilkins, 2018). Using Spyder and programming libraries, I will evaluate and analyze the data of three vineyards to create plots of average daily temperatures from April 1st to Octber 31st. Using daily values and the GDD formula (see below), total GDD from each vineyard will be calculated and averaged in order to provide the GDD for the Sunnyslope district. "
   ]
  },
  {
   "cell_type": "markdown",
   "metadata": {},
   "source": [
    "# GDD = ( (Max + Min) / 2 ) - 50\n",
    "*GDD is always positive, therefore if resting value is <0, then GDD = 0. "
   ]
  },
  {
   "cell_type": "code",
   "execution_count": null,
   "metadata": {},
   "outputs": [],
   "source": []
  }
 ],
 "metadata": {
  "kernelspec": {
   "display_name": "Python 3",
   "language": "python",
   "name": "python3"
  },
  "language_info": {
   "codemirror_mode": {
    "name": "ipython",
    "version": 3
   },
   "file_extension": ".py",
   "mimetype": "text/x-python",
   "name": "python",
   "nbconvert_exporter": "python",
   "pygments_lexer": "ipython3",
   "version": "3.7.0"
  }
 },
 "nbformat": 4,
 "nbformat_minor": 2
}
