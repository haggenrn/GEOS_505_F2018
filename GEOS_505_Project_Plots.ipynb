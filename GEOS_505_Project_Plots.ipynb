{
 "cells": [
  {
   "cell_type": "markdown",
   "metadata": {},
   "source": [
    "##Datasets \n",
    "The data sets I am analyzing for my final project were downloaded from David Wilkin's Sunnyslope project website. I have downloaded one dataset from two different vineyards. The data was collected from a weather station located in the middle of the vine rows, and temperature data is collected every hour. Data includes April 1, 2017 to October 31, 2017. In this Jupyter notboke I hope to import the data along with any computing libraries I will need to create plots of the data. Plots have already be created on Dave's website, and I can use those to double check mine are accurate. \n",
    "\n",
    "Dataset 1: Polo Cove 'PC_GDD.csv\" \n",
    "Dataset 2: Hat Ranch 'HR_GDD.csv\" "
   ]
  },
  {
   "cell_type": "code",
   "execution_count": 7,
   "metadata": {},
   "outputs": [],
   "source": [
    "import numpy as np\n",
    "import pandas as pd \n",
    "import matplotlib.pyplot as plt \n",
    "import matplotlib.dates as mdates\n",
    "\n",
    "filename_PC = \"PC_GDD.csv\""
   ]
  },
  {
   "cell_type": "markdown",
   "metadata": {},
   "source": [
    "Above, I imported all the libraries I think I will need to analyze the data.\n",
    "Below, I designated a data frame to the .csv file I dubbed \"PC\" which is my Polo Cove 2017 data"
   ]
  },
  {
   "cell_type": "code",
   "execution_count": 8,
   "metadata": {},
   "outputs": [],
   "source": [
    "df = pd.read_csv(filename_PC)"
   ]
  },
  {
   "cell_type": "code",
   "execution_count": 9,
   "metadata": {},
   "outputs": [
    {
     "data": {
      "text/html": [
       "<div>\n",
       "<style scoped>\n",
       "    .dataframe tbody tr th:only-of-type {\n",
       "        vertical-align: middle;\n",
       "    }\n",
       "\n",
       "    .dataframe tbody tr th {\n",
       "        vertical-align: top;\n",
       "    }\n",
       "\n",
       "    .dataframe thead th {\n",
       "        text-align: right;\n",
       "    }\n",
       "</style>\n",
       "<table border=\"1\" class=\"dataframe\">\n",
       "  <thead>\n",
       "    <tr style=\"text-align: right;\">\n",
       "      <th></th>\n",
       "      <th>Date</th>\n",
       "      <th>Value</th>\n",
       "    </tr>\n",
       "  </thead>\n",
       "  <tbody>\n",
       "    <tr>\n",
       "      <th>0</th>\n",
       "      <td>4/1/17 1:00</td>\n",
       "      <td>44.24</td>\n",
       "    </tr>\n",
       "    <tr>\n",
       "      <th>1</th>\n",
       "      <td>4/1/17 2:00</td>\n",
       "      <td>44.78</td>\n",
       "    </tr>\n",
       "    <tr>\n",
       "      <th>2</th>\n",
       "      <td>4/1/17 3:00</td>\n",
       "      <td>44.42</td>\n",
       "    </tr>\n",
       "    <tr>\n",
       "      <th>3</th>\n",
       "      <td>4/1/17 4:00</td>\n",
       "      <td>44.06</td>\n",
       "    </tr>\n",
       "    <tr>\n",
       "      <th>4</th>\n",
       "      <td>4/1/17 5:00</td>\n",
       "      <td>41.72</td>\n",
       "    </tr>\n",
       "    <tr>\n",
       "      <th>5</th>\n",
       "      <td>4/1/17 6:00</td>\n",
       "      <td>40.64</td>\n",
       "    </tr>\n",
       "    <tr>\n",
       "      <th>6</th>\n",
       "      <td>4/1/17 7:00</td>\n",
       "      <td>40.82</td>\n",
       "    </tr>\n",
       "    <tr>\n",
       "      <th>7</th>\n",
       "      <td>4/1/17 8:00</td>\n",
       "      <td>39.56</td>\n",
       "    </tr>\n",
       "    <tr>\n",
       "      <th>8</th>\n",
       "      <td>4/1/17 9:00</td>\n",
       "      <td>42.26</td>\n",
       "    </tr>\n",
       "    <tr>\n",
       "      <th>9</th>\n",
       "      <td>4/1/17 10:00</td>\n",
       "      <td>48.20</td>\n",
       "    </tr>\n",
       "    <tr>\n",
       "      <th>10</th>\n",
       "      <td>4/1/17 11:00</td>\n",
       "      <td>52.16</td>\n",
       "    </tr>\n",
       "    <tr>\n",
       "      <th>11</th>\n",
       "      <td>4/1/17 12:00</td>\n",
       "      <td>55.76</td>\n",
       "    </tr>\n",
       "    <tr>\n",
       "      <th>12</th>\n",
       "      <td>4/1/17 13:00</td>\n",
       "      <td>57.92</td>\n",
       "    </tr>\n",
       "    <tr>\n",
       "      <th>13</th>\n",
       "      <td>4/1/17 14:00</td>\n",
       "      <td>60.44</td>\n",
       "    </tr>\n",
       "    <tr>\n",
       "      <th>14</th>\n",
       "      <td>4/1/17 15:00</td>\n",
       "      <td>62.96</td>\n",
       "    </tr>\n",
       "    <tr>\n",
       "      <th>15</th>\n",
       "      <td>4/1/17 16:00</td>\n",
       "      <td>65.12</td>\n",
       "    </tr>\n",
       "    <tr>\n",
       "      <th>16</th>\n",
       "      <td>4/1/17 17:00</td>\n",
       "      <td>64.40</td>\n",
       "    </tr>\n",
       "    <tr>\n",
       "      <th>17</th>\n",
       "      <td>4/1/17 18:00</td>\n",
       "      <td>63.50</td>\n",
       "    </tr>\n",
       "    <tr>\n",
       "      <th>18</th>\n",
       "      <td>4/1/17 19:00</td>\n",
       "      <td>62.60</td>\n",
       "    </tr>\n",
       "    <tr>\n",
       "      <th>19</th>\n",
       "      <td>4/1/17 20:00</td>\n",
       "      <td>59.54</td>\n",
       "    </tr>\n",
       "    <tr>\n",
       "      <th>20</th>\n",
       "      <td>4/1/17 21:00</td>\n",
       "      <td>56.48</td>\n",
       "    </tr>\n",
       "    <tr>\n",
       "      <th>21</th>\n",
       "      <td>4/1/17 22:00</td>\n",
       "      <td>56.48</td>\n",
       "    </tr>\n",
       "    <tr>\n",
       "      <th>22</th>\n",
       "      <td>4/1/17 23:00</td>\n",
       "      <td>54.14</td>\n",
       "    </tr>\n",
       "    <tr>\n",
       "      <th>23</th>\n",
       "      <td>4/2/17 0:00</td>\n",
       "      <td>53.06</td>\n",
       "    </tr>\n",
       "    <tr>\n",
       "      <th>24</th>\n",
       "      <td>4/2/17 1:00</td>\n",
       "      <td>52.52</td>\n",
       "    </tr>\n",
       "    <tr>\n",
       "      <th>25</th>\n",
       "      <td>4/2/17 2:00</td>\n",
       "      <td>51.44</td>\n",
       "    </tr>\n",
       "    <tr>\n",
       "      <th>26</th>\n",
       "      <td>4/2/17 3:00</td>\n",
       "      <td>50.90</td>\n",
       "    </tr>\n",
       "    <tr>\n",
       "      <th>27</th>\n",
       "      <td>4/2/17 4:00</td>\n",
       "      <td>49.64</td>\n",
       "    </tr>\n",
       "    <tr>\n",
       "      <th>28</th>\n",
       "      <td>4/2/17 5:00</td>\n",
       "      <td>48.56</td>\n",
       "    </tr>\n",
       "    <tr>\n",
       "      <th>29</th>\n",
       "      <td>4/2/17 6:00</td>\n",
       "      <td>47.84</td>\n",
       "    </tr>\n",
       "    <tr>\n",
       "      <th>30</th>\n",
       "      <td>4/2/17 7:00</td>\n",
       "      <td>46.22</td>\n",
       "    </tr>\n",
       "    <tr>\n",
       "      <th>31</th>\n",
       "      <td>4/2/17 8:00</td>\n",
       "      <td>44.78</td>\n",
       "    </tr>\n",
       "    <tr>\n",
       "      <th>32</th>\n",
       "      <td>4/2/17 9:00</td>\n",
       "      <td>45.32</td>\n",
       "    </tr>\n",
       "    <tr>\n",
       "      <th>33</th>\n",
       "      <td>4/2/17 10:00</td>\n",
       "      <td>48.56</td>\n",
       "    </tr>\n",
       "    <tr>\n",
       "      <th>34</th>\n",
       "      <td>4/2/17 11:00</td>\n",
       "      <td>52.16</td>\n",
       "    </tr>\n",
       "    <tr>\n",
       "      <th>35</th>\n",
       "      <td>4/2/17 12:00</td>\n",
       "      <td>55.40</td>\n",
       "    </tr>\n",
       "    <tr>\n",
       "      <th>36</th>\n",
       "      <td>4/2/17 13:00</td>\n",
       "      <td>57.74</td>\n",
       "    </tr>\n",
       "    <tr>\n",
       "      <th>37</th>\n",
       "      <td>4/2/17 14:00</td>\n",
       "      <td>60.62</td>\n",
       "    </tr>\n",
       "    <tr>\n",
       "      <th>38</th>\n",
       "      <td>4/2/17 15:00</td>\n",
       "      <td>61.88</td>\n",
       "    </tr>\n",
       "    <tr>\n",
       "      <th>39</th>\n",
       "      <td>4/2/17 16:00</td>\n",
       "      <td>62.42</td>\n",
       "    </tr>\n",
       "    <tr>\n",
       "      <th>40</th>\n",
       "      <td>4/2/17 17:00</td>\n",
       "      <td>62.96</td>\n",
       "    </tr>\n",
       "    <tr>\n",
       "      <th>41</th>\n",
       "      <td>4/2/17 18:00</td>\n",
       "      <td>61.70</td>\n",
       "    </tr>\n",
       "    <tr>\n",
       "      <th>42</th>\n",
       "      <td>4/2/17 19:00</td>\n",
       "      <td>57.20</td>\n",
       "    </tr>\n",
       "    <tr>\n",
       "      <th>43</th>\n",
       "      <td>4/2/17 20:00</td>\n",
       "      <td>52.70</td>\n",
       "    </tr>\n",
       "    <tr>\n",
       "      <th>44</th>\n",
       "      <td>4/2/17 21:00</td>\n",
       "      <td>47.84</td>\n",
       "    </tr>\n",
       "    <tr>\n",
       "      <th>45</th>\n",
       "      <td>4/2/17 22:00</td>\n",
       "      <td>44.78</td>\n",
       "    </tr>\n",
       "    <tr>\n",
       "      <th>46</th>\n",
       "      <td>4/2/17 23:00</td>\n",
       "      <td>42.08</td>\n",
       "    </tr>\n",
       "    <tr>\n",
       "      <th>47</th>\n",
       "      <td>4/3/17 0:00</td>\n",
       "      <td>39.92</td>\n",
       "    </tr>\n",
       "    <tr>\n",
       "      <th>48</th>\n",
       "      <td>4/3/17 1:00</td>\n",
       "      <td>38.12</td>\n",
       "    </tr>\n",
       "    <tr>\n",
       "      <th>49</th>\n",
       "      <td>4/3/17 2:00</td>\n",
       "      <td>37.22</td>\n",
       "    </tr>\n",
       "    <tr>\n",
       "      <th>50</th>\n",
       "      <td>4/3/17 3:00</td>\n",
       "      <td>37.04</td>\n",
       "    </tr>\n",
       "    <tr>\n",
       "      <th>51</th>\n",
       "      <td>4/3/17 4:00</td>\n",
       "      <td>36.50</td>\n",
       "    </tr>\n",
       "    <tr>\n",
       "      <th>52</th>\n",
       "      <td>4/3/17 5:00</td>\n",
       "      <td>36.68</td>\n",
       "    </tr>\n",
       "    <tr>\n",
       "      <th>53</th>\n",
       "      <td>4/3/17 6:00</td>\n",
       "      <td>35.24</td>\n",
       "    </tr>\n",
       "    <tr>\n",
       "      <th>54</th>\n",
       "      <td>4/3/17 7:00</td>\n",
       "      <td>33.80</td>\n",
       "    </tr>\n",
       "    <tr>\n",
       "      <th>55</th>\n",
       "      <td>4/3/17 8:00</td>\n",
       "      <td>34.16</td>\n",
       "    </tr>\n",
       "    <tr>\n",
       "      <th>56</th>\n",
       "      <td>4/3/17 9:00</td>\n",
       "      <td>35.96</td>\n",
       "    </tr>\n",
       "    <tr>\n",
       "      <th>57</th>\n",
       "      <td>4/3/17 10:00</td>\n",
       "      <td>40.64</td>\n",
       "    </tr>\n",
       "    <tr>\n",
       "      <th>58</th>\n",
       "      <td>4/3/17 11:00</td>\n",
       "      <td>44.78</td>\n",
       "    </tr>\n",
       "    <tr>\n",
       "      <th>59</th>\n",
       "      <td>4/3/17 12:00</td>\n",
       "      <td>48.20</td>\n",
       "    </tr>\n",
       "  </tbody>\n",
       "</table>\n",
       "</div>"
      ],
      "text/plain": [
       "            Date  Value\n",
       "0    4/1/17 1:00  44.24\n",
       "1    4/1/17 2:00  44.78\n",
       "2    4/1/17 3:00  44.42\n",
       "3    4/1/17 4:00  44.06\n",
       "4    4/1/17 5:00  41.72\n",
       "5    4/1/17 6:00  40.64\n",
       "6    4/1/17 7:00  40.82\n",
       "7    4/1/17 8:00  39.56\n",
       "8    4/1/17 9:00  42.26\n",
       "9   4/1/17 10:00  48.20\n",
       "10  4/1/17 11:00  52.16\n",
       "11  4/1/17 12:00  55.76\n",
       "12  4/1/17 13:00  57.92\n",
       "13  4/1/17 14:00  60.44\n",
       "14  4/1/17 15:00  62.96\n",
       "15  4/1/17 16:00  65.12\n",
       "16  4/1/17 17:00  64.40\n",
       "17  4/1/17 18:00  63.50\n",
       "18  4/1/17 19:00  62.60\n",
       "19  4/1/17 20:00  59.54\n",
       "20  4/1/17 21:00  56.48\n",
       "21  4/1/17 22:00  56.48\n",
       "22  4/1/17 23:00  54.14\n",
       "23   4/2/17 0:00  53.06\n",
       "24   4/2/17 1:00  52.52\n",
       "25   4/2/17 2:00  51.44\n",
       "26   4/2/17 3:00  50.90\n",
       "27   4/2/17 4:00  49.64\n",
       "28   4/2/17 5:00  48.56\n",
       "29   4/2/17 6:00  47.84\n",
       "30   4/2/17 7:00  46.22\n",
       "31   4/2/17 8:00  44.78\n",
       "32   4/2/17 9:00  45.32\n",
       "33  4/2/17 10:00  48.56\n",
       "34  4/2/17 11:00  52.16\n",
       "35  4/2/17 12:00  55.40\n",
       "36  4/2/17 13:00  57.74\n",
       "37  4/2/17 14:00  60.62\n",
       "38  4/2/17 15:00  61.88\n",
       "39  4/2/17 16:00  62.42\n",
       "40  4/2/17 17:00  62.96\n",
       "41  4/2/17 18:00  61.70\n",
       "42  4/2/17 19:00  57.20\n",
       "43  4/2/17 20:00  52.70\n",
       "44  4/2/17 21:00  47.84\n",
       "45  4/2/17 22:00  44.78\n",
       "46  4/2/17 23:00  42.08\n",
       "47   4/3/17 0:00  39.92\n",
       "48   4/3/17 1:00  38.12\n",
       "49   4/3/17 2:00  37.22\n",
       "50   4/3/17 3:00  37.04\n",
       "51   4/3/17 4:00  36.50\n",
       "52   4/3/17 5:00  36.68\n",
       "53   4/3/17 6:00  35.24\n",
       "54   4/3/17 7:00  33.80\n",
       "55   4/3/17 8:00  34.16\n",
       "56   4/3/17 9:00  35.96\n",
       "57  4/3/17 10:00  40.64\n",
       "58  4/3/17 11:00  44.78\n",
       "59  4/3/17 12:00  48.20"
      ]
     },
     "execution_count": 9,
     "metadata": {},
     "output_type": "execute_result"
    }
   ],
   "source": [
    "df[0:60]"
   ]
  },
  {
   "cell_type": "markdown",
   "metadata": {},
   "source": [
    "I wanted to double check that the data was print correctly, and in a format I can read. The data is readable to me, but the backslashes are going to make anaylzing the data, and printing a neat plot very difficult. I need to convert the dates to something more readable. "
   ]
  },
  {
   "cell_type": "code",
   "execution_count": 10,
   "metadata": {},
   "outputs": [
    {
     "data": {
      "text/plain": [
       "'4/1/17 1:00'"
      ]
     },
     "execution_count": 10,
     "metadata": {},
     "output_type": "execute_result"
    }
   ],
   "source": [
    "datearr = df['Date'].values\n",
    "datearr[0]"
   ]
  },
  {
   "cell_type": "markdown",
   "metadata": {},
   "source": [
    "Here I asked it to print the value of the first date in my dataset. It is in a format that is not easy to work with."
   ]
  },
  {
   "cell_type": "code",
   "execution_count": 11,
   "metadata": {},
   "outputs": [
    {
     "data": {
      "text/plain": [
       "Timestamp('2017-04-01 01:00:00')"
      ]
     },
     "execution_count": 11,
     "metadata": {},
     "output_type": "execute_result"
    }
   ],
   "source": [
    "datearr_dt = pd.to_datetime(datearr)\n",
    "datearr_dt[0]"
   ]
  },
  {
   "cell_type": "markdown",
   "metadata": {},
   "source": [
    "I convert the dates and time values to timestamps, and these are much easier to work with. "
   ]
  },
  {
   "cell_type": "code",
   "execution_count": 12,
   "metadata": {},
   "outputs": [],
   "source": [
    "df['NP_Datetime'] = datearr_dt"
   ]
  },
  {
   "cell_type": "markdown",
   "metadata": {},
   "source": [
    "This allows me to generate another column within my dataset for the timestamps I created. Let's double check that it worked.\n"
   ]
  },
  {
   "cell_type": "code",
   "execution_count": 13,
   "metadata": {},
   "outputs": [
    {
     "data": {
      "text/html": [
       "<div>\n",
       "<style scoped>\n",
       "    .dataframe tbody tr th:only-of-type {\n",
       "        vertical-align: middle;\n",
       "    }\n",
       "\n",
       "    .dataframe tbody tr th {\n",
       "        vertical-align: top;\n",
       "    }\n",
       "\n",
       "    .dataframe thead th {\n",
       "        text-align: right;\n",
       "    }\n",
       "</style>\n",
       "<table border=\"1\" class=\"dataframe\">\n",
       "  <thead>\n",
       "    <tr style=\"text-align: right;\">\n",
       "      <th></th>\n",
       "      <th>Date</th>\n",
       "      <th>Value</th>\n",
       "      <th>NP_Datetime</th>\n",
       "    </tr>\n",
       "  </thead>\n",
       "  <tbody>\n",
       "    <tr>\n",
       "      <th>0</th>\n",
       "      <td>4/1/17 1:00</td>\n",
       "      <td>44.24</td>\n",
       "      <td>2017-04-01 01:00:00</td>\n",
       "    </tr>\n",
       "    <tr>\n",
       "      <th>1</th>\n",
       "      <td>4/1/17 2:00</td>\n",
       "      <td>44.78</td>\n",
       "      <td>2017-04-01 02:00:00</td>\n",
       "    </tr>\n",
       "    <tr>\n",
       "      <th>2</th>\n",
       "      <td>4/1/17 3:00</td>\n",
       "      <td>44.42</td>\n",
       "      <td>2017-04-01 03:00:00</td>\n",
       "    </tr>\n",
       "    <tr>\n",
       "      <th>3</th>\n",
       "      <td>4/1/17 4:00</td>\n",
       "      <td>44.06</td>\n",
       "      <td>2017-04-01 04:00:00</td>\n",
       "    </tr>\n",
       "    <tr>\n",
       "      <th>4</th>\n",
       "      <td>4/1/17 5:00</td>\n",
       "      <td>41.72</td>\n",
       "      <td>2017-04-01 05:00:00</td>\n",
       "    </tr>\n",
       "    <tr>\n",
       "      <th>5</th>\n",
       "      <td>4/1/17 6:00</td>\n",
       "      <td>40.64</td>\n",
       "      <td>2017-04-01 06:00:00</td>\n",
       "    </tr>\n",
       "    <tr>\n",
       "      <th>6</th>\n",
       "      <td>4/1/17 7:00</td>\n",
       "      <td>40.82</td>\n",
       "      <td>2017-04-01 07:00:00</td>\n",
       "    </tr>\n",
       "    <tr>\n",
       "      <th>7</th>\n",
       "      <td>4/1/17 8:00</td>\n",
       "      <td>39.56</td>\n",
       "      <td>2017-04-01 08:00:00</td>\n",
       "    </tr>\n",
       "    <tr>\n",
       "      <th>8</th>\n",
       "      <td>4/1/17 9:00</td>\n",
       "      <td>42.26</td>\n",
       "      <td>2017-04-01 09:00:00</td>\n",
       "    </tr>\n",
       "    <tr>\n",
       "      <th>9</th>\n",
       "      <td>4/1/17 10:00</td>\n",
       "      <td>48.20</td>\n",
       "      <td>2017-04-01 10:00:00</td>\n",
       "    </tr>\n",
       "    <tr>\n",
       "      <th>10</th>\n",
       "      <td>4/1/17 11:00</td>\n",
       "      <td>52.16</td>\n",
       "      <td>2017-04-01 11:00:00</td>\n",
       "    </tr>\n",
       "    <tr>\n",
       "      <th>11</th>\n",
       "      <td>4/1/17 12:00</td>\n",
       "      <td>55.76</td>\n",
       "      <td>2017-04-01 12:00:00</td>\n",
       "    </tr>\n",
       "    <tr>\n",
       "      <th>12</th>\n",
       "      <td>4/1/17 13:00</td>\n",
       "      <td>57.92</td>\n",
       "      <td>2017-04-01 13:00:00</td>\n",
       "    </tr>\n",
       "    <tr>\n",
       "      <th>13</th>\n",
       "      <td>4/1/17 14:00</td>\n",
       "      <td>60.44</td>\n",
       "      <td>2017-04-01 14:00:00</td>\n",
       "    </tr>\n",
       "  </tbody>\n",
       "</table>\n",
       "</div>"
      ],
      "text/plain": [
       "            Date  Value         NP_Datetime\n",
       "0    4/1/17 1:00  44.24 2017-04-01 01:00:00\n",
       "1    4/1/17 2:00  44.78 2017-04-01 02:00:00\n",
       "2    4/1/17 3:00  44.42 2017-04-01 03:00:00\n",
       "3    4/1/17 4:00  44.06 2017-04-01 04:00:00\n",
       "4    4/1/17 5:00  41.72 2017-04-01 05:00:00\n",
       "5    4/1/17 6:00  40.64 2017-04-01 06:00:00\n",
       "6    4/1/17 7:00  40.82 2017-04-01 07:00:00\n",
       "7    4/1/17 8:00  39.56 2017-04-01 08:00:00\n",
       "8    4/1/17 9:00  42.26 2017-04-01 09:00:00\n",
       "9   4/1/17 10:00  48.20 2017-04-01 10:00:00\n",
       "10  4/1/17 11:00  52.16 2017-04-01 11:00:00\n",
       "11  4/1/17 12:00  55.76 2017-04-01 12:00:00\n",
       "12  4/1/17 13:00  57.92 2017-04-01 13:00:00\n",
       "13  4/1/17 14:00  60.44 2017-04-01 14:00:00"
      ]
     },
     "execution_count": 13,
     "metadata": {},
     "output_type": "execute_result"
    }
   ],
   "source": [
    "df[0:14]"
   ]
  },
  {
   "cell_type": "markdown",
   "metadata": {},
   "source": [
    "It worked! Now all I need to do is create a plot of the data using pyplot and be sure to label my axes and give my plot a title. This is similar to an exercise we did in class for our \"Visualizing Data\" section. "
   ]
  },
  {
   "cell_type": "code",
   "execution_count": 16,
   "metadata": {},
   "outputs": [
    {
     "data": {
      "image/png": "[encoded data removed]",
      "text/plain": [
       "<Figure size 432x288 with 1 Axes>"
      ]
     },
     "metadata": {
      "needs_background": "light"
     },
     "output_type": "display_data"
    }
   ],
   "source": [
    "plt.plot(df['NP_Datetime'].values,df['Value'].values)\n",
    "plt.title('Polo Cove Vineyard: April 1 - October 31 2017')\n",
    "plt.xlabel('Date')\n",
    "plt.ylabel('Value [°F]')\n",
    "\n",
    "plt.show()"
   ]
  },
  {
   "cell_type": "markdown",
   "metadata": {},
   "source": [
    "It worked! From this we can see that there were multiple days in September when temperature data was not recorded. This is likely due to a dead battery. Now, I need to import the Hat Ranch dataset and create a plot. "
   ]
  },
  {
   "cell_type": "code",
   "execution_count": 17,
   "metadata": {},
   "outputs": [],
   "source": [
    "filename_HR = 'HR_GDD.csv'"
   ]
  },
  {
   "cell_type": "code",
   "execution_count": 18,
   "metadata": {},
   "outputs": [],
   "source": [
    "df = pd.read_csv(filename_HR)"
   ]
  },
  {
   "cell_type": "code",
   "execution_count": 19,
   "metadata": {},
   "outputs": [
    {
     "data": {
      "text/html": [
       "<div>\n",
       "<style scoped>\n",
       "    .dataframe tbody tr th:only-of-type {\n",
       "        vertical-align: middle;\n",
       "    }\n",
       "\n",
       "    .dataframe tbody tr th {\n",
       "        vertical-align: top;\n",
       "    }\n",
       "\n",
       "    .dataframe thead th {\n",
       "        text-align: right;\n",
       "    }\n",
       "</style>\n",
       "<table border=\"1\" class=\"dataframe\">\n",
       "  <thead>\n",
       "    <tr style=\"text-align: right;\">\n",
       "      <th></th>\n",
       "      <th>Unnamed: 0</th>\n",
       "      <th>Date</th>\n",
       "      <th>Value</th>\n",
       "    </tr>\n",
       "  </thead>\n",
       "  <tbody>\n",
       "    <tr>\n",
       "      <th>0</th>\n",
       "      <td>1</td>\n",
       "      <td>2017-04-01 01:00:00</td>\n",
       "      <td>43.70</td>\n",
       "    </tr>\n",
       "    <tr>\n",
       "      <th>1</th>\n",
       "      <td>2</td>\n",
       "      <td>2017-04-01 02:00:00</td>\n",
       "      <td>40.46</td>\n",
       "    </tr>\n",
       "    <tr>\n",
       "      <th>2</th>\n",
       "      <td>3</td>\n",
       "      <td>2017-04-01 03:00:00</td>\n",
       "      <td>40.46</td>\n",
       "    </tr>\n",
       "    <tr>\n",
       "      <th>3</th>\n",
       "      <td>4</td>\n",
       "      <td>2017-04-01 04:00:00</td>\n",
       "      <td>40.28</td>\n",
       "    </tr>\n",
       "  </tbody>\n",
       "</table>\n",
       "</div>"
      ],
      "text/plain": [
       "   Unnamed: 0                 Date  Value\n",
       "0           1  2017-04-01 01:00:00  43.70\n",
       "1           2  2017-04-01 02:00:00  40.46\n",
       "2           3  2017-04-01 03:00:00  40.46\n",
       "3           4  2017-04-01 04:00:00  40.28"
      ]
     },
     "execution_count": 19,
     "metadata": {},
     "output_type": "execute_result"
    }
   ],
   "source": [
    "df[0:4]"
   ]
  },
  {
   "cell_type": "code",
   "execution_count": 20,
   "metadata": {},
   "outputs": [
    {
     "data": {
      "text/plain": [
       "'2017-04-01 01:00:00'"
      ]
     },
     "execution_count": 20,
     "metadata": {},
     "output_type": "execute_result"
    }
   ],
   "source": [
    "datearr = df['Date'].values\n",
    "datearr[0]"
   ]
  },
  {
   "cell_type": "code",
   "execution_count": 21,
   "metadata": {},
   "outputs": [
    {
     "data": {
      "text/plain": [
       "Timestamp('2017-04-01 01:00:00')"
      ]
     },
     "execution_count": 21,
     "metadata": {},
     "output_type": "execute_result"
    }
   ],
   "source": [
    "datearr_dt = pd.to_datetime(datearr)\n",
    "datearr_dt[0]"
   ]
  },
  {
   "cell_type": "code",
   "execution_count": 22,
   "metadata": {},
   "outputs": [],
   "source": [
    "df['NP_Datetime'] = datearr_dt"
   ]
  },
  {
   "cell_type": "code",
   "execution_count": 23,
   "metadata": {},
   "outputs": [
    {
     "data": {
      "image/png": "[encoded data removed]",
      "text/plain": [
       "<Figure size 432x288 with 1 Axes>"
      ]
     },
     "metadata": {
      "needs_background": "light"
     },
     "output_type": "display_data"
    }
   ],
   "source": [
    "plt.plot(df['NP_Datetime'].values,df['Value'].values)\n",
    "plt.title('Hat Ranch Vineyard: April 1 - October 31 2017')\n",
    "plt.xlabel('Date')\n",
    "plt.ylabel('Value [°F]')\n",
    "\n",
    "plt.show()"
   ]
  },
  {
   "cell_type": "markdown",
   "metadata": {},
   "source": [
    "We can verify that this is the Hat Ranch data by the lack of missing temperatures in September. "
   ]
  },
  {
   "cell_type": "markdown",
   "metadata": {},
   "source": [
    "######\n",
    "\n",
    "Both datasets that I am working with for my GDD investigation were succesfully imported into my Jupyter notebook. I was easily able to create readable plots with labeled x and y axes and a title. After checking Dave's website, the plots are accurate, and are ready to be analyzed to find GDD. I speculate that the number of GDD at Hat Ranch (which is at a lower elevation) will be less than the GDD at Polo Cove. This difference will demonstrate the variability in growing conditions within the Snake River Valley wine region, and show how our region compares to others. "
   ]
  },
  {
   "cell_type": "code",
   "execution_count": null,
   "metadata": {},
   "outputs": [],
   "source": []
  }
 ],
 "metadata": {
  "kernelspec": {
   "display_name": "Python 3",
   "language": "python",
   "name": "python3"
  },
  "language_info": {
   "codemirror_mode": {
    "name": "ipython",
    "version": 3
   },
   "file_extension": ".py",
   "mimetype": "text/x-python",
   "name": "python",
   "nbconvert_exporter": "python",
   "pygments_lexer": "ipython3",
   "version": "3.7.0"
  }
 },
 "nbformat": 4,
 "nbformat_minor": 2
}
